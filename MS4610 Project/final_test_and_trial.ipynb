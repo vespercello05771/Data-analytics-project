{
 "cells": [
  {
   "cell_type": "code",
   "execution_count": 1,
   "id": "890c2811",
   "metadata": {},
   "outputs": [],
   "source": [
    "import pandas as pd\n",
    "import numpy as np\n",
    "from matplotlib import pyplot as plt\n",
    "%matplotlib inline\n",
    "import matplotlib\n",
    "matplotlib.rcParams[\"figure.figsize\"]=(20,10)\n",
    "from statsmodels.stats.outliers_influence import variance_inflation_factor\n",
    "from sklearn.linear_model import LogisticRegression\n",
    "from sklearn.model_selection import train_test_split\n",
    "from sklearn.svm import SVC\n",
    "from sklearn import svm"
   ]
  },
  {
   "cell_type": "code",
   "execution_count": 2,
   "id": "57cdaba3",
   "metadata": {},
   "outputs": [],
   "source": [
    "pd.set_option('display.max_columns', None)"
   ]
  },
  {
   "cell_type": "code",
   "execution_count": 3,
   "id": "bad59a4d",
   "metadata": {},
   "outputs": [],
   "source": [
    "#combo = pd.read_csv('merged_train.csv')"
   ]
  },
  {
   "cell_type": "code",
   "execution_count": 4,
   "id": "c26677ed",
   "metadata": {},
   "outputs": [],
   "source": [
    "#payment_cof = pd.read_csv('payment_cashout_fail_df.csv')"
   ]
  },
  {
   "cell_type": "code",
   "execution_count": 5,
   "id": "fd06d468",
   "metadata": {},
   "outputs": [],
   "source": [
    "#full_train = pd.merge(combo,payment_cof,on=\"cust_id\",how='left')"
   ]
  },
  {
   "cell_type": "code",
   "execution_count": 5,
   "id": "0b281f83",
   "metadata": {},
   "outputs": [],
   "source": [
    "combo = combo[combo.columns.drop(list(combo.filter(regex='Unnamed')))]"
   ]
  },
  {
   "cell_type": "code",
   "execution_count": 7,
   "id": "3c921f78",
   "metadata": {},
   "outputs": [],
   "source": [
    "# full_train.fillna(0,inplace=True)"
   ]
  },
  {
   "cell_type": "code",
   "execution_count": 8,
   "id": "cc871391",
   "metadata": {},
   "outputs": [],
   "source": [
    "#now getting test as above"
   ]
  },
  {
   "cell_type": "code",
   "execution_count": 8,
   "id": "50644024",
   "metadata": {},
   "outputs": [],
   "source": [
    "s1 = pd.read_csv('fraud_update_features.csv')\n",
    "s1.drop('fraud_update_features_12',axis=1,inplace=True)\n",
    "s1.drop(s1.columns[[5,6,16,17,18,19]],axis='columns',inplace=True)\n",
    "s2 = pd.read_csv('new_acct_fi.csv')\n",
    "s3 = pd.read_csv('new_acct_memo_rcv.csv')\n",
    "s4 = pd.read_csv('new_acct_memo_sent.csv')\n",
    "s5 = pd.read_csv('new_acct_receiver.csv')\n",
    "s6 = pd.read_csv('new_acct_sender.csv')\n",
    "s7 = pd.read_csv('test_cust_id.csv')"
   ]
  },
  {
   "cell_type": "code",
   "execution_count": 10,
   "id": "7d3cee8a",
   "metadata": {},
   "outputs": [],
   "source": [
    "s1.drop('fraud_update_features_15',axis=1,inplace=True)"
   ]
  },
  {
   "cell_type": "code",
   "execution_count": 11,
   "id": "a53c0742",
   "metadata": {},
   "outputs": [],
   "source": [
    "\n",
    "\n",
    "m1 = pd.merge(s7,s1,on=\"cust_id\",how='left')\n",
    "m2 = pd.merge(m1,s2,on=\"cust_id\",how='left')\n",
    "m3 = pd.merge(m2,s3,on=\"cust_id\",how='left')\n",
    "m4 = pd.merge(m3,s4,on=\"cust_id\",how='left')\n",
    "m5 = pd.merge(m4,s5,on=\"cust_id\",how='left')\n",
    "m6 = pd.merge(m5,s6,on='cust_id',how='left')\n",
    "\n",
    "\n"
   ]
  },
  {
   "cell_type": "code",
   "execution_count": 9,
   "id": "efecc0c3",
   "metadata": {},
   "outputs": [
    {
     "data": {
      "text/html": [
       "<div>\n",
       "<style scoped>\n",
       "    .dataframe tbody tr th:only-of-type {\n",
       "        vertical-align: middle;\n",
       "    }\n",
       "\n",
       "    .dataframe tbody tr th {\n",
       "        vertical-align: top;\n",
       "    }\n",
       "\n",
       "    .dataframe thead th {\n",
       "        text-align: right;\n",
       "    }\n",
       "</style>\n",
       "<table border=\"1\" class=\"dataframe\">\n",
       "  <thead>\n",
       "    <tr style=\"text-align: right;\">\n",
       "      <th></th>\n",
       "      <th>Unnamed: 0</th>\n",
       "      <th>cust_id</th>\n",
       "      <th>fraud_update_features_1</th>\n",
       "      <th>fraud_update_features_2</th>\n",
       "      <th>fraud_update_features_3</th>\n",
       "      <th>fraud_update_features_6</th>\n",
       "      <th>fraud_update_features_7</th>\n",
       "      <th>fraud_update_features_8</th>\n",
       "      <th>fraud_update_features_9</th>\n",
       "      <th>fraud_update_features_10</th>\n",
       "      <th>fraud_update_features_11</th>\n",
       "      <th>fraud_update_features_13</th>\n",
       "      <th>fraud_update_features_14</th>\n",
       "      <th>fraud_update_features_15</th>\n",
       "      <th>fraud_update_features_20</th>\n",
       "    </tr>\n",
       "  </thead>\n",
       "  <tbody>\n",
       "    <tr>\n",
       "      <th>0</th>\n",
       "      <td>0</td>\n",
       "      <td>10021085</td>\n",
       "      <td>0</td>\n",
       "      <td>0</td>\n",
       "      <td>0</td>\n",
       "      <td>0</td>\n",
       "      <td>0</td>\n",
       "      <td>0</td>\n",
       "      <td>0</td>\n",
       "      <td>0</td>\n",
       "      <td>0</td>\n",
       "      <td>0</td>\n",
       "      <td>0</td>\n",
       "      <td>2020-05-21 11:45:42</td>\n",
       "      <td>1</td>\n",
       "    </tr>\n",
       "    <tr>\n",
       "      <th>1</th>\n",
       "      <td>1</td>\n",
       "      <td>10061508</td>\n",
       "      <td>0</td>\n",
       "      <td>0</td>\n",
       "      <td>0</td>\n",
       "      <td>0</td>\n",
       "      <td>0</td>\n",
       "      <td>0</td>\n",
       "      <td>0</td>\n",
       "      <td>0</td>\n",
       "      <td>0</td>\n",
       "      <td>0</td>\n",
       "      <td>0</td>\n",
       "      <td>2021-01-04 12:51:59</td>\n",
       "      <td>1</td>\n",
       "    </tr>\n",
       "  </tbody>\n",
       "</table>\n",
       "</div>"
      ],
      "text/plain": [
       "   Unnamed: 0   cust_id  fraud_update_features_1  fraud_update_features_2  \\\n",
       "0           0  10021085                        0                        0   \n",
       "1           1  10061508                        0                        0   \n",
       "\n",
       "   fraud_update_features_3  fraud_update_features_6  fraud_update_features_7  \\\n",
       "0                        0                        0                        0   \n",
       "1                        0                        0                        0   \n",
       "\n",
       "   fraud_update_features_8  fraud_update_features_9  fraud_update_features_10  \\\n",
       "0                        0                        0                         0   \n",
       "1                        0                        0                         0   \n",
       "\n",
       "   fraud_update_features_11  fraud_update_features_13  \\\n",
       "0                         0                         0   \n",
       "1                         0                         0   \n",
       "\n",
       "   fraud_update_features_14 fraud_update_features_15  fraud_update_features_20  \n",
       "0                         0      2020-05-21 11:45:42                         1  \n",
       "1                         0      2021-01-04 12:51:59                         1  "
      ]
     },
     "execution_count": 9,
     "metadata": {},
     "output_type": "execute_result"
    }
   ],
   "source": [
    "s1.head(2)"
   ]
  },
  {
   "cell_type": "code",
   "execution_count": 12,
   "id": "fedc6010",
   "metadata": {},
   "outputs": [],
   "source": [
    "m6 = m6[m6.columns.drop(list(m6.filter(regex='Unnamed')))]"
   ]
  },
  {
   "cell_type": "code",
   "execution_count": 13,
   "id": "5c86f1e2",
   "metadata": {},
   "outputs": [
    {
     "data": {
      "text/plain": [
       "(180000, 325)"
      ]
     },
     "execution_count": 13,
     "metadata": {},
     "output_type": "execute_result"
    }
   ],
   "source": [
    "m6.shape"
   ]
  },
  {
   "cell_type": "code",
   "execution_count": 7,
   "id": "682b6d43",
   "metadata": {},
   "outputs": [],
   "source": [
    "combo.to_csv('FULLTRAIN.csv')"
   ]
  },
  {
   "cell_type": "code",
   "execution_count": 14,
   "id": "7b00e000",
   "metadata": {},
   "outputs": [],
   "source": [
    "m6.to_csv('FULLTEST.csv')"
   ]
  }
 ],
 "metadata": {
  "kernelspec": {
   "display_name": "Python 3",
   "language": "python",
   "name": "python3"
  },
  "language_info": {
   "codemirror_mode": {
    "name": "ipython",
    "version": 3
   },
   "file_extension": ".py",
   "mimetype": "text/x-python",
   "name": "python",
   "nbconvert_exporter": "python",
   "pygments_lexer": "ipython3",
   "version": "3.8.8"
  }
 },
 "nbformat": 4,
 "nbformat_minor": 5
}
